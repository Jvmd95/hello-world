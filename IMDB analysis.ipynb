{
 "cells": [
  {
   "cell_type": "markdown",
   "metadata": {},
   "source": [
    "# IMDB DATA ANALYSIS"
   ]
  },
  {
   "cell_type": "markdown",
   "metadata": {},
   "source": [
    "Here I will do a quick analysis of the IMDB dataset. IMDB is an online database of information related to films, television programs, home videos, video games and so on. The database stores information such as:  cast, production crew, personal biographies, plot summaries, trivia, fan and critical reviews, movie genres and ratings.\n",
    "\n",
    "Ratings consist of a weighted average of all the individual votes. Individuals can vote on the movies, giving a score of 1-10.\n",
    "\n",
    "In this analysis I will focus only on movies, and on information like genres ratings and year. Some questions that I am interested about are: What is the average rating per movie genre? and per decade? \n"
   ]
  },
  {
   "cell_type": "markdown",
   "metadata": {},
   "source": [
    "Lets start by downloading and saving the IMDB dataset in our computer. The following code will check if the files are on the script directory, and if they arent it will proceed to download the files."
   ]
  },
  {
   "cell_type": "code",
   "execution_count": 1,
   "metadata": {},
   "outputs": [
    {
     "name": "stdout",
     "output_type": "stream",
     "text": [
      "\n",
      "Checking if title.ratings.tsv.gz is on the current working directory...\n",
      "\n",
      "Ok\n",
      "\n",
      "Checking if title.basics.tsv.gz is on the current working directory...\n",
      "\n",
      "Ok\n"
     ]
    },
    {
     "name": "stderr",
     "output_type": "stream",
     "text": [
      "C:\\Users\\juanv\\Anaconda3\\lib\\site-packages\\IPython\\core\\interactiveshell.py:3051: DtypeWarning: Columns (7) have mixed types. Specify dtype option on import or set low_memory=False.\n",
      "  interactivity=interactivity, compiler=compiler, result=result)\n"
     ]
    }
   ],
   "source": [
    "import requests\n",
    "import pandas as pd\n",
    "import gzip\n",
    "from pathlib import Path\n",
    "\n",
    "def down_save(name):\n",
    "    \"\"\" Downloads imdb datasets and saves them in the script path\n",
    "     \n",
    "    Args:\n",
    "        name(str): Accepts either \"ratings\" or \"basics\" and downloads said dataset\n",
    "    \"\"\"\n",
    "    if name == \"ratings\":\n",
    "        url = \"https://datasets.imdbws.com/title.ratings.tsv.gz\"\n",
    "        response = requests.get(url, allow_redirects=True)\n",
    "        with open('title.ratings.tsv.gz', 'wb') as f:\n",
    "            f.write(response.content)\n",
    "    if name == \"basics\":\n",
    "        url = \"https://datasets.imdbws.com/title.basics.tsv.gz\"\n",
    "        response = requests.get(url, allow_redirects=True)\n",
    "        with open('title.basics.tsv.gz', 'wb') as f:\n",
    "            f.write(response.content)\n",
    "    \n",
    "def check():\n",
    "    \"\"\" Checks if the IMDB dataset is on the CWD \n",
    "\n",
    "    \"\"\"\n",
    "    print(\"\\nChecking if title.ratings.tsv.gz is on the current working directory...\\n\") \n",
    "    \n",
    "    if Path('title.ratings.tsv.gz').is_file():\n",
    "        print (\"Ok\")\n",
    "    else:\n",
    "        print (\"File doesnt exist\\n\\nDownloading file ....\\n\")\n",
    "        down_save(\"ratings\")  \n",
    "        print (\"\\nFile saved as title.ratings.tsv.gz on the cwd\" )\n",
    "        \n",
    "    print(\"\\nChecking if title.basics.tsv.gz is on the current working directory...\\n\")   \n",
    "    \n",
    "    if Path('title.basics.tsv.gz').is_file():\n",
    "        print (\"Ok\")\n",
    "    else:\n",
    "        print (\"File doesnt exist\\n\\nDownloading file ....\\n\")\n",
    "        down_save(\"basics\")\n",
    "        print (\"\\nFile saved as title.basics.tsv.gz on the cwd\" )\n",
    "\n",
    "\n",
    "check()\n",
    "\n",
    "#Opening the files and saving them as 'imdb_ratings' and 'imdb_basics'.\n",
    "\n",
    "with gzip.open('title.ratings.tsv.gz', 'rb') as f:\n",
    "    imdb_ratings=pd.read_csv(f,delimiter='\\t',encoding='utf-8',na_values=[r'\\N'])\n",
    "    \n",
    "with gzip.open('title.basics.tsv.gz', 'rb') as f:\n",
    "    imdb_basics=pd.read_csv(f,delimiter='\\t',encoding='utf-8',na_values=[r'\\N'])\n",
    "    "
   ]
  },
  {
   "cell_type": "code",
   "execution_count": 2,
   "metadata": {},
   "outputs": [
    {
     "data": {
      "text/html": [
       "<div>\n",
       "<style scoped>\n",
       "    .dataframe tbody tr th:only-of-type {\n",
       "        vertical-align: middle;\n",
       "    }\n",
       "\n",
       "    .dataframe tbody tr th {\n",
       "        vertical-align: top;\n",
       "    }\n",
       "\n",
       "    .dataframe thead th {\n",
       "        text-align: right;\n",
       "    }\n",
       "</style>\n",
       "<table border=\"1\" class=\"dataframe\">\n",
       "  <thead>\n",
       "    <tr style=\"text-align: right;\">\n",
       "      <th></th>\n",
       "      <th>tconst</th>\n",
       "      <th>titleType</th>\n",
       "      <th>primaryTitle</th>\n",
       "      <th>originalTitle</th>\n",
       "      <th>isAdult</th>\n",
       "      <th>startYear</th>\n",
       "      <th>endYear</th>\n",
       "      <th>runtimeMinutes</th>\n",
       "      <th>genres</th>\n",
       "    </tr>\n",
       "  </thead>\n",
       "  <tbody>\n",
       "    <tr>\n",
       "      <th>0</th>\n",
       "      <td>tt0000001</td>\n",
       "      <td>short</td>\n",
       "      <td>Carmencita</td>\n",
       "      <td>Carmencita</td>\n",
       "      <td>0</td>\n",
       "      <td>1894.0</td>\n",
       "      <td>NaN</td>\n",
       "      <td>1</td>\n",
       "      <td>Documentary,Short</td>\n",
       "    </tr>\n",
       "    <tr>\n",
       "      <th>1</th>\n",
       "      <td>tt0000002</td>\n",
       "      <td>short</td>\n",
       "      <td>Le clown et ses chiens</td>\n",
       "      <td>Le clown et ses chiens</td>\n",
       "      <td>0</td>\n",
       "      <td>1892.0</td>\n",
       "      <td>NaN</td>\n",
       "      <td>5</td>\n",
       "      <td>Animation,Short</td>\n",
       "    </tr>\n",
       "    <tr>\n",
       "      <th>2</th>\n",
       "      <td>tt0000003</td>\n",
       "      <td>short</td>\n",
       "      <td>Pauvre Pierrot</td>\n",
       "      <td>Pauvre Pierrot</td>\n",
       "      <td>0</td>\n",
       "      <td>1892.0</td>\n",
       "      <td>NaN</td>\n",
       "      <td>4</td>\n",
       "      <td>Animation,Comedy,Romance</td>\n",
       "    </tr>\n",
       "    <tr>\n",
       "      <th>3</th>\n",
       "      <td>tt0000004</td>\n",
       "      <td>short</td>\n",
       "      <td>Un bon bock</td>\n",
       "      <td>Un bon bock</td>\n",
       "      <td>0</td>\n",
       "      <td>1892.0</td>\n",
       "      <td>NaN</td>\n",
       "      <td>12</td>\n",
       "      <td>Animation,Short</td>\n",
       "    </tr>\n",
       "    <tr>\n",
       "      <th>4</th>\n",
       "      <td>tt0000005</td>\n",
       "      <td>short</td>\n",
       "      <td>Blacksmith Scene</td>\n",
       "      <td>Blacksmith Scene</td>\n",
       "      <td>0</td>\n",
       "      <td>1893.0</td>\n",
       "      <td>NaN</td>\n",
       "      <td>1</td>\n",
       "      <td>Comedy,Short</td>\n",
       "    </tr>\n",
       "  </tbody>\n",
       "</table>\n",
       "</div>"
      ],
      "text/plain": [
       "      tconst titleType            primaryTitle           originalTitle  \\\n",
       "0  tt0000001     short              Carmencita              Carmencita   \n",
       "1  tt0000002     short  Le clown et ses chiens  Le clown et ses chiens   \n",
       "2  tt0000003     short          Pauvre Pierrot          Pauvre Pierrot   \n",
       "3  tt0000004     short             Un bon bock             Un bon bock   \n",
       "4  tt0000005     short        Blacksmith Scene        Blacksmith Scene   \n",
       "\n",
       "   isAdult  startYear  endYear runtimeMinutes                    genres  \n",
       "0        0     1894.0      NaN              1         Documentary,Short  \n",
       "1        0     1892.0      NaN              5           Animation,Short  \n",
       "2        0     1892.0      NaN              4  Animation,Comedy,Romance  \n",
       "3        0     1892.0      NaN             12           Animation,Short  \n",
       "4        0     1893.0      NaN              1              Comedy,Short  "
      ]
     },
     "execution_count": 2,
     "metadata": {},
     "output_type": "execute_result"
    }
   ],
   "source": [
    "imdb_basics.head()"
   ]
  },
  {
   "cell_type": "code",
   "execution_count": 3,
   "metadata": {},
   "outputs": [
    {
     "data": {
      "text/html": [
       "<div>\n",
       "<style scoped>\n",
       "    .dataframe tbody tr th:only-of-type {\n",
       "        vertical-align: middle;\n",
       "    }\n",
       "\n",
       "    .dataframe tbody tr th {\n",
       "        vertical-align: top;\n",
       "    }\n",
       "\n",
       "    .dataframe thead th {\n",
       "        text-align: right;\n",
       "    }\n",
       "</style>\n",
       "<table border=\"1\" class=\"dataframe\">\n",
       "  <thead>\n",
       "    <tr style=\"text-align: right;\">\n",
       "      <th></th>\n",
       "      <th>tconst</th>\n",
       "      <th>averageRating</th>\n",
       "      <th>numVotes</th>\n",
       "    </tr>\n",
       "  </thead>\n",
       "  <tbody>\n",
       "    <tr>\n",
       "      <th>0</th>\n",
       "      <td>tt0000001</td>\n",
       "      <td>5.6</td>\n",
       "      <td>1585</td>\n",
       "    </tr>\n",
       "    <tr>\n",
       "      <th>1</th>\n",
       "      <td>tt0000002</td>\n",
       "      <td>6.1</td>\n",
       "      <td>192</td>\n",
       "    </tr>\n",
       "    <tr>\n",
       "      <th>2</th>\n",
       "      <td>tt0000003</td>\n",
       "      <td>6.5</td>\n",
       "      <td>1248</td>\n",
       "    </tr>\n",
       "    <tr>\n",
       "      <th>3</th>\n",
       "      <td>tt0000004</td>\n",
       "      <td>6.2</td>\n",
       "      <td>119</td>\n",
       "    </tr>\n",
       "    <tr>\n",
       "      <th>4</th>\n",
       "      <td>tt0000005</td>\n",
       "      <td>6.1</td>\n",
       "      <td>1998</td>\n",
       "    </tr>\n",
       "  </tbody>\n",
       "</table>\n",
       "</div>"
      ],
      "text/plain": [
       "      tconst  averageRating  numVotes\n",
       "0  tt0000001            5.6      1585\n",
       "1  tt0000002            6.1       192\n",
       "2  tt0000003            6.5      1248\n",
       "3  tt0000004            6.2       119\n",
       "4  tt0000005            6.1      1998"
      ]
     },
     "execution_count": 3,
     "metadata": {},
     "output_type": "execute_result"
    }
   ],
   "source": [
    "imdb_ratings.head()"
   ]
  },
  {
   "cell_type": "markdown",
   "metadata": {},
   "source": [
    "The dataset is separated in different files, resulting in two dataframe objects. Lets merge them together:"
   ]
  },
  {
   "cell_type": "code",
   "execution_count": 4,
   "metadata": {},
   "outputs": [],
   "source": [
    "#Because we are only interested in titles with ratings we will use an inner join.\n",
    "#An inner join will return a dataframe that have matching values in both of the original dataframes.\n",
    "imdb = pd.merge(imdb_basics, imdb_ratings, on='tconst', how='inner')"
   ]
  },
  {
   "cell_type": "code",
   "execution_count": 5,
   "metadata": {},
   "outputs": [
    {
     "data": {
      "text/html": [
       "<div>\n",
       "<style scoped>\n",
       "    .dataframe tbody tr th:only-of-type {\n",
       "        vertical-align: middle;\n",
       "    }\n",
       "\n",
       "    .dataframe tbody tr th {\n",
       "        vertical-align: top;\n",
       "    }\n",
       "\n",
       "    .dataframe thead th {\n",
       "        text-align: right;\n",
       "    }\n",
       "</style>\n",
       "<table border=\"1\" class=\"dataframe\">\n",
       "  <thead>\n",
       "    <tr style=\"text-align: right;\">\n",
       "      <th></th>\n",
       "      <th>tconst</th>\n",
       "      <th>titleType</th>\n",
       "      <th>primaryTitle</th>\n",
       "      <th>originalTitle</th>\n",
       "      <th>isAdult</th>\n",
       "      <th>startYear</th>\n",
       "      <th>endYear</th>\n",
       "      <th>runtimeMinutes</th>\n",
       "      <th>genres</th>\n",
       "      <th>averageRating</th>\n",
       "      <th>numVotes</th>\n",
       "    </tr>\n",
       "  </thead>\n",
       "  <tbody>\n",
       "    <tr>\n",
       "      <th>0</th>\n",
       "      <td>tt0000001</td>\n",
       "      <td>short</td>\n",
       "      <td>Carmencita</td>\n",
       "      <td>Carmencita</td>\n",
       "      <td>0</td>\n",
       "      <td>1894.0</td>\n",
       "      <td>NaN</td>\n",
       "      <td>1</td>\n",
       "      <td>Documentary,Short</td>\n",
       "      <td>5.6</td>\n",
       "      <td>1585</td>\n",
       "    </tr>\n",
       "    <tr>\n",
       "      <th>1</th>\n",
       "      <td>tt0000002</td>\n",
       "      <td>short</td>\n",
       "      <td>Le clown et ses chiens</td>\n",
       "      <td>Le clown et ses chiens</td>\n",
       "      <td>0</td>\n",
       "      <td>1892.0</td>\n",
       "      <td>NaN</td>\n",
       "      <td>5</td>\n",
       "      <td>Animation,Short</td>\n",
       "      <td>6.1</td>\n",
       "      <td>192</td>\n",
       "    </tr>\n",
       "    <tr>\n",
       "      <th>2</th>\n",
       "      <td>tt0000003</td>\n",
       "      <td>short</td>\n",
       "      <td>Pauvre Pierrot</td>\n",
       "      <td>Pauvre Pierrot</td>\n",
       "      <td>0</td>\n",
       "      <td>1892.0</td>\n",
       "      <td>NaN</td>\n",
       "      <td>4</td>\n",
       "      <td>Animation,Comedy,Romance</td>\n",
       "      <td>6.5</td>\n",
       "      <td>1248</td>\n",
       "    </tr>\n",
       "    <tr>\n",
       "      <th>3</th>\n",
       "      <td>tt0000004</td>\n",
       "      <td>short</td>\n",
       "      <td>Un bon bock</td>\n",
       "      <td>Un bon bock</td>\n",
       "      <td>0</td>\n",
       "      <td>1892.0</td>\n",
       "      <td>NaN</td>\n",
       "      <td>12</td>\n",
       "      <td>Animation,Short</td>\n",
       "      <td>6.2</td>\n",
       "      <td>119</td>\n",
       "    </tr>\n",
       "    <tr>\n",
       "      <th>4</th>\n",
       "      <td>tt0000005</td>\n",
       "      <td>short</td>\n",
       "      <td>Blacksmith Scene</td>\n",
       "      <td>Blacksmith Scene</td>\n",
       "      <td>0</td>\n",
       "      <td>1893.0</td>\n",
       "      <td>NaN</td>\n",
       "      <td>1</td>\n",
       "      <td>Comedy,Short</td>\n",
       "      <td>6.1</td>\n",
       "      <td>1998</td>\n",
       "    </tr>\n",
       "  </tbody>\n",
       "</table>\n",
       "</div>"
      ],
      "text/plain": [
       "      tconst titleType            primaryTitle           originalTitle  \\\n",
       "0  tt0000001     short              Carmencita              Carmencita   \n",
       "1  tt0000002     short  Le clown et ses chiens  Le clown et ses chiens   \n",
       "2  tt0000003     short          Pauvre Pierrot          Pauvre Pierrot   \n",
       "3  tt0000004     short             Un bon bock             Un bon bock   \n",
       "4  tt0000005     short        Blacksmith Scene        Blacksmith Scene   \n",
       "\n",
       "   isAdult  startYear  endYear runtimeMinutes                    genres  \\\n",
       "0        0     1894.0      NaN              1         Documentary,Short   \n",
       "1        0     1892.0      NaN              5           Animation,Short   \n",
       "2        0     1892.0      NaN              4  Animation,Comedy,Romance   \n",
       "3        0     1892.0      NaN             12           Animation,Short   \n",
       "4        0     1893.0      NaN              1              Comedy,Short   \n",
       "\n",
       "   averageRating  numVotes  \n",
       "0            5.6      1585  \n",
       "1            6.1       192  \n",
       "2            6.5      1248  \n",
       "3            6.2       119  \n",
       "4            6.1      1998  "
      ]
     },
     "execution_count": 5,
     "metadata": {},
     "output_type": "execute_result"
    }
   ],
   "source": [
    "imdb.head()"
   ]
  },
  {
   "cell_type": "markdown",
   "metadata": {},
   "source": [
    "Now we have one dataframe with all the necessary information for our analysis. Lets start doing some data cleaning.\n",
    "\n",
    "We will drop columns that are unnecessary for our analysis:"
   ]
  },
  {
   "cell_type": "code",
   "execution_count": 6,
   "metadata": {},
   "outputs": [],
   "source": [
    "imdb.drop(['endYear','isAdult'],axis=1,inplace=True)"
   ]
  },
  {
   "cell_type": "markdown",
   "metadata": {},
   "source": [
    "We are only interested in movies, so lets eliminate the rest from our dataframe:"
   ]
  },
  {
   "cell_type": "code",
   "execution_count": 7,
   "metadata": {},
   "outputs": [],
   "source": [
    "imdb = imdb[imdb[\"titleType\"] == 'movie']"
   ]
  },
  {
   "cell_type": "code",
   "execution_count": 8,
   "metadata": {},
   "outputs": [
    {
     "data": {
      "text/plain": [
       "movie    244812\n",
       "Name: titleType, dtype: int64"
      ]
     },
     "execution_count": 8,
     "metadata": {},
     "output_type": "execute_result"
    }
   ],
   "source": [
    "imdb[\"titleType\"].value_counts()"
   ]
  },
  {
   "cell_type": "markdown",
   "metadata": {},
   "source": [
    "This resulted in a dataframe with 244,812 movies. We know that all remaining titles are movies, so lets eliminate the titletype column. It provides us with no useful information anymore."
   ]
  },
  {
   "cell_type": "code",
   "execution_count": 9,
   "metadata": {},
   "outputs": [],
   "source": [
    "imdb.drop(['titleType'],axis=1,inplace=True)"
   ]
  },
  {
   "cell_type": "markdown",
   "metadata": {},
   "source": [
    "Changing columns names and checking their type. Columns like rating, votes, year and duration should be transformed to int types to facilitate data analysis."
   ]
  },
  {
   "cell_type": "code",
   "execution_count": 10,
   "metadata": {},
   "outputs": [
    {
     "data": {
      "text/plain": [
       "id                   object\n",
       "primary_title        object\n",
       "original_title       object\n",
       "year                float64\n",
       "duration_minutes     object\n",
       "genres               object\n",
       "rating              float64\n",
       "votes                 int64\n",
       "dtype: object"
      ]
     },
     "execution_count": 10,
     "metadata": {},
     "output_type": "execute_result"
    }
   ],
   "source": [
    "imdb.columns = ['id','primary_title','original_title','year','duration_minutes','genres','rating','votes']\n",
    "imdb.dtypes"
   ]
  },
  {
   "cell_type": "code",
   "execution_count": 11,
   "metadata": {},
   "outputs": [],
   "source": [
    "imdb['duration_minutes'] = pd.to_numeric(imdb.duration_minutes)"
   ]
  },
  {
   "cell_type": "markdown",
   "metadata": {},
   "source": [
    "Lets check for null values:"
   ]
  },
  {
   "cell_type": "code",
   "execution_count": 12,
   "metadata": {},
   "outputs": [
    {
     "data": {
      "text/plain": [
       "id                  0.000000\n",
       "primary_title       0.000000\n",
       "original_title      0.000000\n",
       "year                0.000086\n",
       "duration_minutes    0.110660\n",
       "genres              0.041170\n",
       "rating              0.000000\n",
       "votes               0.000000\n",
       "dtype: float64"
      ]
     },
     "execution_count": 12,
     "metadata": {},
     "output_type": "execute_result"
    }
   ],
   "source": [
    "imdb.isnull().mean()"
   ]
  },
  {
   "cell_type": "markdown",
   "metadata": {},
   "source": [
    "The year column seems to contain very few rows with null values, it should be safe to drop those rows without altering too much our data analysis."
   ]
  },
  {
   "cell_type": "code",
   "execution_count": 13,
   "metadata": {},
   "outputs": [],
   "source": [
    "imdb.dropna(subset=['year'], inplace=True)"
   ]
  },
  {
   "cell_type": "markdown",
   "metadata": {},
   "source": [
    "# Data analysis\n",
    "\n",
    "Now that we did some basic data cleaning lets jump to the interesting part, data analysis."
   ]
  },
  {
   "cell_type": "markdown",
   "metadata": {},
   "source": [
    "Lets start by taking a look at the vote distribution:"
   ]
  },
  {
   "cell_type": "code",
   "execution_count": 14,
   "metadata": {},
   "outputs": [
    {
     "data": {
      "text/plain": [
       "count    2.447910e+05\n",
       "mean     3.255509e+03\n",
       "std      3.094111e+04\n",
       "min      5.000000e+00\n",
       "25%      1.400000e+01\n",
       "50%      4.700000e+01\n",
       "75%      2.530000e+02\n",
       "max      2.191776e+06\n",
       "Name: votes, dtype: float64"
      ]
     },
     "execution_count": 14,
     "metadata": {},
     "output_type": "execute_result"
    }
   ],
   "source": [
    "imdb.votes.describe()"
   ]
  },
  {
   "cell_type": "markdown",
   "metadata": {},
   "source": [
    "It seems that the vast majority of movies have less than 300 votes, while very few movies have millions of votes.\n",
    "\n",
    "Lets visualize the vote distribution:"
   ]
  },
  {
   "cell_type": "code",
   "execution_count": 15,
   "metadata": {},
   "outputs": [
    {
     "data": {
      "text/plain": [
       "<matplotlib.axes._subplots.AxesSubplot at 0x1db0186ce48>"
      ]
     },
     "execution_count": 15,
     "metadata": {},
     "output_type": "execute_result"
    },
    {
     "data": {
      "image/png": "[encoded data removed]",
      "text/plain": [
       "<Figure size 432x288 with 1 Axes>"
      ]
     },
     "metadata": {
      "needs_background": "light"
     },
     "output_type": "display_data"
    }
   ],
   "source": [
    "imdb[imdb.votes < 10000].votes.hist()"
   ]
  },
  {
   "cell_type": "markdown",
   "metadata": {},
   "source": [
    "A very unequal distribution.\n",
    "\n",
    "\n",
    "\n",
    "Lets take a look at the year column:"
   ]
  },
  {
   "cell_type": "code",
   "execution_count": 16,
   "metadata": {},
   "outputs": [
    {
     "data": {
      "text/plain": [
       "count    244791.000000\n",
       "mean       1991.428529\n",
       "std          25.532860\n",
       "min        1894.000000\n",
       "25%        1975.000000\n",
       "50%        2001.000000\n",
       "75%        2012.000000\n",
       "max        2020.000000\n",
       "Name: year, dtype: float64"
      ]
     },
     "execution_count": 16,
     "metadata": {},
     "output_type": "execute_result"
    }
   ],
   "source": [
    "imdb.year.describe()"
   ]
  },
  {
   "cell_type": "markdown",
   "metadata": {},
   "source": [
    "50% of the movies in the database are from the past 20 years. Even though this could indicate that the same amount of movies have been made in the past 20 years than the last century, it might be a bit early to generalize this to the entire movie industry, as our dataframe only includes movies that have a rating on the IMDB database"
   ]
  },
  {
   "cell_type": "code",
   "execution_count": 17,
   "metadata": {},
   "outputs": [
    {
     "data": {
      "text/plain": [
       "<matplotlib.axes._subplots.AxesSubplot at 0x1db02a997c8>"
      ]
     },
     "execution_count": 17,
     "metadata": {},
     "output_type": "execute_result"
    },
    {
     "data": {
      "image/png": "[encoded data removed]",
      "text/plain": [
       "<Figure size 432x288 with 1 Axes>"
      ]
     },
     "metadata": {
      "needs_background": "light"
     },
     "output_type": "display_data"
    }
   ],
   "source": [
    "import seaborn as sns\n",
    "import matplotlib.pyplot as plt\n",
    "fig = plt.figure()\n",
    "ax1 = fig.add_subplot(1, 1, 1)\n",
    "\n",
    "sns.kdeplot(imdb.year,shade=True, ax=ax1,color='r')"
   ]
  },
  {
   "cell_type": "code",
   "execution_count": 18,
   "metadata": {},
   "outputs": [
    {
     "data": {
      "text/plain": [
       "<matplotlib.axes._subplots.AxesSubplot at 0x1db0b736f08>"
      ]
     },
     "execution_count": 18,
     "metadata": {},
     "output_type": "execute_result"
    },
    {
     "data": {
      "image/png": "[encoded data removed]",
      "text/plain": [
       "<Figure size 432x288 with 1 Axes>"
      ]
     },
     "metadata": {
      "needs_background": "light"
     },
     "output_type": "display_data"
    }
   ],
   "source": [
    "sns.distplot(imdb.year)"
   ]
  },
  {
   "cell_type": "markdown",
   "metadata": {},
   "source": [
    "In those plots we can visualize the year distribution, with a clear boom after the year 2000. "
   ]
  },
  {
   "cell_type": "markdown",
   "metadata": {},
   "source": [
    "To analyse the ratings I will only include those titles that have more than 10 votes. As we could see by the voting distribution we will lose a considerable amount of movies from our dataframe, however I believe that including titles with less than 10 votes would result in biased information."
   ]
  },
  {
   "cell_type": "code",
   "execution_count": 19,
   "metadata": {},
   "outputs": [
    {
     "data": {
      "text/plain": [
       "(199712, 8)"
      ]
     },
     "execution_count": 19,
     "metadata": {},
     "output_type": "execute_result"
    }
   ],
   "source": [
    "imdb_votes = imdb[imdb.votes > 10].copy()\n",
    "imdb_votes.shape"
   ]
  },
  {
   "cell_type": "markdown",
   "metadata": {},
   "source": [
    "We lost around 44,000 movies from our dataframe, which I think is an acceptable trade-off."
   ]
  },
  {
   "cell_type": "markdown",
   "metadata": {},
   "source": [
    "# Average rating by decade\n",
    "\n",
    "\n",
    "We will visualize average rating by decade and find out which decade is considered to have produced the best movies according to IMDB users."
   ]
  },
  {
   "cell_type": "code",
   "execution_count": 20,
   "metadata": {},
   "outputs": [
    {
     "data": {
      "text/plain": [
       "<matplotlib.axes._subplots.AxesSubplot at 0x1db6d7a3d48>"
      ]
     },
     "execution_count": 20,
     "metadata": {},
     "output_type": "execute_result"
    },
    {
     "data": {
      "image/png": "[encoded data removed]",
      "text/plain": [
       "<Figure size 1152x576 with 1 Axes>"
      ]
     },
     "metadata": {
      "needs_background": "light"
     },
     "output_type": "display_data"
    }
   ],
   "source": [
    "interval_range = pd.interval_range(start=1889, freq=10, end=2020)\n",
    "imdb_votes['decade'] = pd.cut(imdb_votes.year, bins=interval_range)\n",
    "\n",
    "fig = plt.figure(figsize=(16,8))\n",
    "ax = fig.add_subplot(1, 1, 1)\n",
    "\n",
    "plt.title('Average IMDB rating per decade')\n",
    "plt.rcParams.update({'font.size': 15})\n",
    "plt.xticks(rotation=90)\n",
    "ax.set_ylim(3,7)\n",
    "\n",
    "\n",
    "\n",
    "\n",
    "\n",
    "sns.barplot(x='decade',y='rating', data=imdb_votes)"
   ]
  },
  {
   "cell_type": "code",
   "execution_count": 21,
   "metadata": {},
   "outputs": [
    {
     "data": {
      "text/plain": [
       "count    199712.000000\n",
       "mean          6.130504\n",
       "std           1.295504\n",
       "min           1.000000\n",
       "25%           5.400000\n",
       "50%           6.300000\n",
       "75%           7.000000\n",
       "max          10.000000\n",
       "Name: rating, dtype: float64"
      ]
     },
     "execution_count": 21,
     "metadata": {},
     "output_type": "execute_result"
    }
   ],
   "source": [
    "imdb_votes.rating.describe()"
   ]
  },
  {
   "cell_type": "markdown",
   "metadata": {},
   "source": [
    "As we can see most decades have an average rating close to the mean rating of the entire dataset."
   ]
  },
  {
   "cell_type": "code",
   "execution_count": 22,
   "metadata": {},
   "outputs": [
    {
     "data": {
      "text/plain": [
       "<matplotlib.axes._subplots.AxesSubplot at 0x1db6d771b08>"
      ]
     },
     "execution_count": 22,
     "metadata": {},
     "output_type": "execute_result"
    },
    {
     "data": {
      "image/png": "[encoded data removed]",
      "text/plain": [
       "<Figure size 432x288 with 1 Axes>"
      ]
     },
     "metadata": {
      "needs_background": "light"
     },
     "output_type": "display_data"
    }
   ],
   "source": [
    "imdb_votes.plot.scatter(x='year',y='rating')"
   ]
  },
  {
   "cell_type": "markdown",
   "metadata": {},
   "source": [
    "The scatter plot indicates a bigger dispersion of rating values towards the recent years, with values for old movies being closer to the average rating."
   ]
  },
  {
   "cell_type": "markdown",
   "metadata": {},
   "source": [
    "# Votes by year\n",
    "\n",
    "Lets take a look at the vote distribution per year:"
   ]
  },
  {
   "cell_type": "code",
   "execution_count": 23,
   "metadata": {},
   "outputs": [],
   "source": [
    "year = imdb_votes.groupby('year',as_index=False).mean()"
   ]
  },
  {
   "cell_type": "code",
   "execution_count": 24,
   "metadata": {},
   "outputs": [
    {
     "data": {
      "text/html": [
       "<div>\n",
       "<style scoped>\n",
       "    .dataframe tbody tr th:only-of-type {\n",
       "        vertical-align: middle;\n",
       "    }\n",
       "\n",
       "    .dataframe tbody tr th {\n",
       "        vertical-align: top;\n",
       "    }\n",
       "\n",
       "    .dataframe thead th {\n",
       "        text-align: right;\n",
       "    }\n",
       "</style>\n",
       "<table border=\"1\" class=\"dataframe\">\n",
       "  <thead>\n",
       "    <tr style=\"text-align: right;\">\n",
       "      <th></th>\n",
       "      <th>year</th>\n",
       "      <th>duration_minutes</th>\n",
       "      <th>rating</th>\n",
       "      <th>votes</th>\n",
       "    </tr>\n",
       "  </thead>\n",
       "  <tbody>\n",
       "    <tr>\n",
       "      <th>0</th>\n",
       "      <td>1894.0</td>\n",
       "      <td>45.000000</td>\n",
       "      <td>5.400000</td>\n",
       "      <td>87.000000</td>\n",
       "    </tr>\n",
       "    <tr>\n",
       "      <th>1</th>\n",
       "      <td>1897.0</td>\n",
       "      <td>20.000000</td>\n",
       "      <td>4.850000</td>\n",
       "      <td>179.000000</td>\n",
       "    </tr>\n",
       "    <tr>\n",
       "      <th>2</th>\n",
       "      <td>1898.0</td>\n",
       "      <td>1.000000</td>\n",
       "      <td>3.800000</td>\n",
       "      <td>20.666667</td>\n",
       "    </tr>\n",
       "    <tr>\n",
       "      <th>3</th>\n",
       "      <td>1899.0</td>\n",
       "      <td>135.000000</td>\n",
       "      <td>4.100000</td>\n",
       "      <td>25.000000</td>\n",
       "    </tr>\n",
       "    <tr>\n",
       "      <th>4</th>\n",
       "      <td>1900.0</td>\n",
       "      <td>NaN</td>\n",
       "      <td>4.777778</td>\n",
       "      <td>23.000000</td>\n",
       "    </tr>\n",
       "    <tr>\n",
       "      <th>...</th>\n",
       "      <td>...</td>\n",
       "      <td>...</td>\n",
       "      <td>...</td>\n",
       "      <td>...</td>\n",
       "    </tr>\n",
       "    <tr>\n",
       "      <th>120</th>\n",
       "      <td>2016.0</td>\n",
       "      <td>95.679994</td>\n",
       "      <td>6.149573</td>\n",
       "      <td>3841.843060</td>\n",
       "    </tr>\n",
       "    <tr>\n",
       "      <th>121</th>\n",
       "      <td>2017.0</td>\n",
       "      <td>96.387124</td>\n",
       "      <td>6.189039</td>\n",
       "      <td>3216.364972</td>\n",
       "    </tr>\n",
       "    <tr>\n",
       "      <th>122</th>\n",
       "      <td>2018.0</td>\n",
       "      <td>97.717730</td>\n",
       "      <td>6.124074</td>\n",
       "      <td>2845.964639</td>\n",
       "    </tr>\n",
       "    <tr>\n",
       "      <th>123</th>\n",
       "      <td>2019.0</td>\n",
       "      <td>102.270070</td>\n",
       "      <td>6.286022</td>\n",
       "      <td>2546.162255</td>\n",
       "    </tr>\n",
       "    <tr>\n",
       "      <th>124</th>\n",
       "      <td>2020.0</td>\n",
       "      <td>106.774278</td>\n",
       "      <td>6.642793</td>\n",
       "      <td>641.315315</td>\n",
       "    </tr>\n",
       "  </tbody>\n",
       "</table>\n",
       "<p>125 rows × 4 columns</p>\n",
       "</div>"
      ],
      "text/plain": [
       "       year  duration_minutes    rating        votes\n",
       "0    1894.0         45.000000  5.400000    87.000000\n",
       "1    1897.0         20.000000  4.850000   179.000000\n",
       "2    1898.0          1.000000  3.800000    20.666667\n",
       "3    1899.0        135.000000  4.100000    25.000000\n",
       "4    1900.0               NaN  4.777778    23.000000\n",
       "..      ...               ...       ...          ...\n",
       "120  2016.0         95.679994  6.149573  3841.843060\n",
       "121  2017.0         96.387124  6.189039  3216.364972\n",
       "122  2018.0         97.717730  6.124074  2845.964639\n",
       "123  2019.0        102.270070  6.286022  2546.162255\n",
       "124  2020.0        106.774278  6.642793   641.315315\n",
       "\n",
       "[125 rows x 4 columns]"
      ]
     },
     "execution_count": 24,
     "metadata": {},
     "output_type": "execute_result"
    }
   ],
   "source": [
    "year"
   ]
  },
  {
   "cell_type": "code",
   "execution_count": 25,
   "metadata": {
    "scrolled": true
   },
   "outputs": [
    {
     "data": {
      "text/plain": [
       "<matplotlib.axes._subplots.AxesSubplot at 0x1db6ddf8788>"
      ]
     },
     "execution_count": 25,
     "metadata": {},
     "output_type": "execute_result"
    },
    {
     "data": {
      "image/png": "[encoded data removed]",
      "text/plain": [
       "<Figure size 432x288 with 1 Axes>"
      ]
     },
     "metadata": {
      "needs_background": "light"
     },
     "output_type": "display_data"
    }
   ],
   "source": [
    "sns.lineplot(x='year',y='votes',data=year)"
   ]
  },
  {
   "cell_type": "markdown",
   "metadata": {},
   "source": [
    "As is expected modern movies are much more popular between the IMDB userbase."
   ]
  },
  {
   "cell_type": "markdown",
   "metadata": {},
   "source": [
    "# Analysis per movie genres\n",
    "\n",
    "Some titles have several genres in the same column and in the same row, which makes data analysis impossible. \n",
    "\n",
    "A possible to solution to this problem is to explode each title in several rows, each row containing only one genre:"
   ]
  },
  {
   "cell_type": "code",
   "execution_count": 26,
   "metadata": {},
   "outputs": [
    {
     "data": {
      "text/plain": [
       "Drama                            33330\n",
       "Comedy                           18609\n",
       "Documentary                      15175\n",
       "Comedy,Drama                      7144\n",
       "Drama,Romance                     6486\n",
       "                                 ...  \n",
       "Action,Documentary,War               1\n",
       "Comedy,Documentary,Reality-TV        1\n",
       "Comedy,Drama,Game-Show               1\n",
       "Family,Mystery,Sport                 1\n",
       "Action,Musical,Sci-Fi                1\n",
       "Name: genres, Length: 1207, dtype: int64"
      ]
     },
     "execution_count": 26,
     "metadata": {},
     "output_type": "execute_result"
    }
   ],
   "source": [
    "imdb_votes['genres'].value_counts()"
   ]
  },
  {
   "cell_type": "markdown",
   "metadata": {},
   "source": [
    "As we can see there is 1207 different combinations of movie genres, an unworkable amount.\n",
    "\n",
    "Lets proceed to explode each title with more than one genre in several rows:"
   ]
  },
  {
   "cell_type": "code",
   "execution_count": 27,
   "metadata": {
    "scrolled": true
   },
   "outputs": [],
   "source": [
    "split = imdb_votes['genres'].str.split(',').apply(pd.Series, 1).stack()\n",
    "split.index = split.index.droplevel(-1)\n",
    "split.name = 'genres'\n",
    "del imdb_votes['genres']\n",
    "imdb_votes = imdb_votes.join(split)"
   ]
  },
  {
   "cell_type": "code",
   "execution_count": 28,
   "metadata": {
    "scrolled": true
   },
   "outputs": [
    {
     "data": {
      "text/plain": [
       "Drama          92566\n",
       "Comedy         54705\n",
       "Romance        24462\n",
       "Documentary    24221\n",
       "Action         23229\n",
       "Crime          18628\n",
       "Thriller       17853\n",
       "Horror         15304\n",
       "Adventure      13988\n",
       "Mystery         8047\n",
       "Family          7984\n",
       "Fantasy         6316\n",
       "Biography       6078\n",
       "History         5518\n",
       "Sci-Fi          5423\n",
       "Music           4980\n",
       "Musical         4694\n",
       "War             4621\n",
       "Animation       3579\n",
       "Western         3387\n",
       "Adult           2473\n",
       "Sport           2428\n",
       "Film-Noir        778\n",
       "News             480\n",
       "Reality-TV        22\n",
       "Short              3\n",
       "Game-Show          2\n",
       "Talk-Show          1\n",
       "Name: genres, dtype: int64"
      ]
     },
     "execution_count": 28,
     "metadata": {},
     "output_type": "execute_result"
    }
   ],
   "source": [
    "imdb_votes.genres.value_counts()"
   ]
  },
  {
   "cell_type": "markdown",
   "metadata": {},
   "source": [
    "The result is 26 movie genres. Lets group the dataframe by movie genre:"
   ]
  },
  {
   "cell_type": "code",
   "execution_count": 29,
   "metadata": {},
   "outputs": [],
   "source": [
    "genres = imdb_votes.groupby('genres',as_index=False).mean()"
   ]
  },
  {
   "cell_type": "markdown",
   "metadata": {},
   "source": [
    "We will drop some categories like 'game-show' and 'news' that have very few values and dont seem relevant to our analysis."
   ]
  },
  {
   "cell_type": "code",
   "execution_count": 30,
   "metadata": {},
   "outputs": [
    {
     "data": {
      "text/html": [
       "<div>\n",
       "<style scoped>\n",
       "    .dataframe tbody tr th:only-of-type {\n",
       "        vertical-align: middle;\n",
       "    }\n",
       "\n",
       "    .dataframe tbody tr th {\n",
       "        vertical-align: top;\n",
       "    }\n",
       "\n",
       "    .dataframe thead th {\n",
       "        text-align: right;\n",
       "    }\n",
       "</style>\n",
       "<table border=\"1\" class=\"dataframe\">\n",
       "  <thead>\n",
       "    <tr style=\"text-align: right;\">\n",
       "      <th></th>\n",
       "      <th>genres</th>\n",
       "      <th>year</th>\n",
       "      <th>duration_minutes</th>\n",
       "      <th>rating</th>\n",
       "      <th>votes</th>\n",
       "    </tr>\n",
       "  </thead>\n",
       "  <tbody>\n",
       "    <tr>\n",
       "      <th>0</th>\n",
       "      <td>Action</td>\n",
       "      <td>1990.862241</td>\n",
       "      <td>101.581182</td>\n",
       "      <td>5.691209</td>\n",
       "      <td>10670.014336</td>\n",
       "    </tr>\n",
       "    <tr>\n",
       "      <th>2</th>\n",
       "      <td>Adventure</td>\n",
       "      <td>1981.270303</td>\n",
       "      <td>94.249791</td>\n",
       "      <td>5.899264</td>\n",
       "      <td>14810.327781</td>\n",
       "    </tr>\n",
       "    <tr>\n",
       "      <th>3</th>\n",
       "      <td>Animation</td>\n",
       "      <td>2002.967868</td>\n",
       "      <td>84.344929</td>\n",
       "      <td>6.334786</td>\n",
       "      <td>12675.459626</td>\n",
       "    </tr>\n",
       "    <tr>\n",
       "      <th>4</th>\n",
       "      <td>Biography</td>\n",
       "      <td>2000.182297</td>\n",
       "      <td>99.383246</td>\n",
       "      <td>6.932099</td>\n",
       "      <td>8527.045903</td>\n",
       "    </tr>\n",
       "    <tr>\n",
       "      <th>5</th>\n",
       "      <td>Comedy</td>\n",
       "      <td>1990.474929</td>\n",
       "      <td>95.032643</td>\n",
       "      <td>5.912366</td>\n",
       "      <td>4344.755690</td>\n",
       "    </tr>\n",
       "    <tr>\n",
       "      <th>6</th>\n",
       "      <td>Crime</td>\n",
       "      <td>1986.419422</td>\n",
       "      <td>96.723241</td>\n",
       "      <td>6.028199</td>\n",
       "      <td>7734.350333</td>\n",
       "    </tr>\n",
       "    <tr>\n",
       "      <th>7</th>\n",
       "      <td>Documentary</td>\n",
       "      <td>2006.570373</td>\n",
       "      <td>87.660654</td>\n",
       "      <td>7.225342</td>\n",
       "      <td>400.361959</td>\n",
       "    </tr>\n",
       "    <tr>\n",
       "      <th>8</th>\n",
       "      <td>Drama</td>\n",
       "      <td>1990.696325</td>\n",
       "      <td>99.777331</td>\n",
       "      <td>6.282177</td>\n",
       "      <td>4285.740261</td>\n",
       "    </tr>\n",
       "    <tr>\n",
       "      <th>9</th>\n",
       "      <td>Family</td>\n",
       "      <td>1995.484218</td>\n",
       "      <td>94.614414</td>\n",
       "      <td>6.187475</td>\n",
       "      <td>5062.606338</td>\n",
       "    </tr>\n",
       "    <tr>\n",
       "      <th>10</th>\n",
       "      <td>Fantasy</td>\n",
       "      <td>1994.056365</td>\n",
       "      <td>95.784838</td>\n",
       "      <td>5.883486</td>\n",
       "      <td>12533.715168</td>\n",
       "    </tr>\n",
       "    <tr>\n",
       "      <th>13</th>\n",
       "      <td>History</td>\n",
       "      <td>1992.877854</td>\n",
       "      <td>104.104994</td>\n",
       "      <td>6.783382</td>\n",
       "      <td>4458.679957</td>\n",
       "    </tr>\n",
       "    <tr>\n",
       "      <th>14</th>\n",
       "      <td>Horror</td>\n",
       "      <td>2001.238108</td>\n",
       "      <td>89.503017</td>\n",
       "      <td>4.993969</td>\n",
       "      <td>4670.507710</td>\n",
       "    </tr>\n",
       "    <tr>\n",
       "      <th>15</th>\n",
       "      <td>Music</td>\n",
       "      <td>1989.652209</td>\n",
       "      <td>92.443677</td>\n",
       "      <td>6.682831</td>\n",
       "      <td>3186.294378</td>\n",
       "    </tr>\n",
       "    <tr>\n",
       "      <th>16</th>\n",
       "      <td>Musical</td>\n",
       "      <td>1971.732211</td>\n",
       "      <td>102.689361</td>\n",
       "      <td>6.224521</td>\n",
       "      <td>1635.274819</td>\n",
       "    </tr>\n",
       "    <tr>\n",
       "      <th>17</th>\n",
       "      <td>Mystery</td>\n",
       "      <td>1991.588791</td>\n",
       "      <td>95.145718</td>\n",
       "      <td>5.904325</td>\n",
       "      <td>9364.508140</td>\n",
       "    </tr>\n",
       "    <tr>\n",
       "      <th>20</th>\n",
       "      <td>Romance</td>\n",
       "      <td>1986.461941</td>\n",
       "      <td>100.654206</td>\n",
       "      <td>6.138558</td>\n",
       "      <td>4164.398618</td>\n",
       "    </tr>\n",
       "    <tr>\n",
       "      <th>21</th>\n",
       "      <td>Sci-Fi</td>\n",
       "      <td>1996.727273</td>\n",
       "      <td>92.568472</td>\n",
       "      <td>5.267472</td>\n",
       "      <td>19338.463212</td>\n",
       "    </tr>\n",
       "    <tr>\n",
       "      <th>23</th>\n",
       "      <td>Sport</td>\n",
       "      <td>1997.680395</td>\n",
       "      <td>95.733104</td>\n",
       "      <td>6.531425</td>\n",
       "      <td>5983.250412</td>\n",
       "    </tr>\n",
       "    <tr>\n",
       "      <th>25</th>\n",
       "      <td>Thriller</td>\n",
       "      <td>2000.576542</td>\n",
       "      <td>97.573002</td>\n",
       "      <td>5.580591</td>\n",
       "      <td>7718.466644</td>\n",
       "    </tr>\n",
       "    <tr>\n",
       "      <th>26</th>\n",
       "      <td>War</td>\n",
       "      <td>1977.731876</td>\n",
       "      <td>100.456140</td>\n",
       "      <td>6.494936</td>\n",
       "      <td>3695.654620</td>\n",
       "    </tr>\n",
       "    <tr>\n",
       "      <th>27</th>\n",
       "      <td>Western</td>\n",
       "      <td>1961.095660</td>\n",
       "      <td>83.230816</td>\n",
       "      <td>5.932359</td>\n",
       "      <td>2336.981695</td>\n",
       "    </tr>\n",
       "  </tbody>\n",
       "</table>\n",
       "</div>"
      ],
      "text/plain": [
       "         genres         year  duration_minutes    rating         votes\n",
       "0        Action  1990.862241        101.581182  5.691209  10670.014336\n",
       "2     Adventure  1981.270303         94.249791  5.899264  14810.327781\n",
       "3     Animation  2002.967868         84.344929  6.334786  12675.459626\n",
       "4     Biography  2000.182297         99.383246  6.932099   8527.045903\n",
       "5        Comedy  1990.474929         95.032643  5.912366   4344.755690\n",
       "6         Crime  1986.419422         96.723241  6.028199   7734.350333\n",
       "7   Documentary  2006.570373         87.660654  7.225342    400.361959\n",
       "8         Drama  1990.696325         99.777331  6.282177   4285.740261\n",
       "9        Family  1995.484218         94.614414  6.187475   5062.606338\n",
       "10      Fantasy  1994.056365         95.784838  5.883486  12533.715168\n",
       "13      History  1992.877854        104.104994  6.783382   4458.679957\n",
       "14       Horror  2001.238108         89.503017  4.993969   4670.507710\n",
       "15        Music  1989.652209         92.443677  6.682831   3186.294378\n",
       "16      Musical  1971.732211        102.689361  6.224521   1635.274819\n",
       "17      Mystery  1991.588791         95.145718  5.904325   9364.508140\n",
       "20      Romance  1986.461941        100.654206  6.138558   4164.398618\n",
       "21       Sci-Fi  1996.727273         92.568472  5.267472  19338.463212\n",
       "23        Sport  1997.680395         95.733104  6.531425   5983.250412\n",
       "25     Thriller  2000.576542         97.573002  5.580591   7718.466644\n",
       "26          War  1977.731876        100.456140  6.494936   3695.654620\n",
       "27      Western  1961.095660         83.230816  5.932359   2336.981695"
      ]
     },
     "execution_count": 30,
     "metadata": {},
     "output_type": "execute_result"
    }
   ],
   "source": [
    "genres.drop([12,19,18,1,24,11,22],inplace=True)\n",
    "genres\n"
   ]
  },
  {
   "cell_type": "markdown",
   "metadata": {},
   "source": [
    "Sorting by rating:"
   ]
  },
  {
   "cell_type": "code",
   "execution_count": 31,
   "metadata": {},
   "outputs": [],
   "source": [
    "genres.sort_values('rating',inplace=True)"
   ]
  },
  {
   "cell_type": "code",
   "execution_count": 32,
   "metadata": {},
   "outputs": [
    {
     "data": {
      "text/plain": [
       "<matplotlib.axes._subplots.AxesSubplot at 0x1db728d4d08>"
      ]
     },
     "execution_count": 32,
     "metadata": {},
     "output_type": "execute_result"
    },
    {
     "data": {
      "image/png": "[encoded data removed]",
      "text/plain": [
       "<Figure size 1584x864 with 1 Axes>"
      ]
     },
     "metadata": {
      "needs_background": "light"
     },
     "output_type": "display_data"
    }
   ],
   "source": [
    "fig = plt.figure(figsize=(22,12))\n",
    "ax = fig.add_subplot(1, 1, 1)\n",
    "plt.title('Average IMDB rating per genre')\n",
    "plt.rcParams.update({'font.size': 18})\n",
    "plt.xticks(rotation=90)\n",
    "\n",
    "\n",
    "sns.barplot(x='genres',y='rating', data=genres)"
   ]
  },
  {
   "cell_type": "markdown",
   "metadata": {},
   "source": [
    "Here we can see the average rating of each genre. At the bottom is horror with a 5 average rating, and at the top documentary with a 7.\n",
    "\n",
    "\n",
    "\n",
    "Lets take a look at the average year per genre."
   ]
  },
  {
   "cell_type": "code",
   "execution_count": 33,
   "metadata": {},
   "outputs": [],
   "source": [
    "genres.sort_values('year',inplace=True)"
   ]
  },
  {
   "cell_type": "code",
   "execution_count": 34,
   "metadata": {},
   "outputs": [
    {
     "data": {
      "text/plain": [
       "<matplotlib.axes._subplots.AxesSubplot at 0x1db7283d0c8>"
      ]
     },
     "execution_count": 34,
     "metadata": {},
     "output_type": "execute_result"
    },
    {
     "data": {
      "image/png": "[encoded data removed]",
      "text/plain": [
       "<Figure size 1584x864 with 1 Axes>"
      ]
     },
     "metadata": {
      "needs_background": "light"
     },
     "output_type": "display_data"
    }
   ],
   "source": [
    "fig = plt.figure(figsize=(22,12))\n",
    "ax = fig.add_subplot(1, 1, 1)\n",
    "plt.title('Average movie year per genre')\n",
    "plt.rcParams.update({'font.size': 18})\n",
    "plt.xticks(rotation=90)\n",
    "ax.set_ylim(1940,2010)\n",
    "\n",
    "\n",
    "sns.barplot(x='genres',y='year', data=genres)"
   ]
  },
  {
   "cell_type": "markdown",
   "metadata": {},
   "source": [
    "Some intuitive results: genres like western and musical are no longer as popular, while animation and documentary are relatively young"
   ]
  },
  {
   "cell_type": "markdown",
   "metadata": {},
   "source": [
    "\n",
    "\n",
    "Lets take a look at the average duration per genre:"
   ]
  },
  {
   "cell_type": "code",
   "execution_count": 35,
   "metadata": {},
   "outputs": [],
   "source": [
    "genres.groupby('genres',as_index=False).mean()\n",
    "genres.sort_values('duration_minutes',inplace=True)"
   ]
  },
  {
   "cell_type": "code",
   "execution_count": 36,
   "metadata": {},
   "outputs": [
    {
     "data": {
      "text/plain": [
       "<matplotlib.axes._subplots.AxesSubplot at 0x1db72773788>"
      ]
     },
     "execution_count": 36,
     "metadata": {},
     "output_type": "execute_result"
    },
    {
     "data": {
      "image/png": "[encoded data removed]",
      "text/plain": [
       "<Figure size 1584x864 with 1 Axes>"
      ]
     },
     "metadata": {
      "needs_background": "light"
     },
     "output_type": "display_data"
    }
   ],
   "source": [
    "fig = plt.figure(figsize=(22,12))\n",
    "ax = fig.add_subplot(1, 1, 1)\n",
    "plt.title('Average duration(min) per genre')\n",
    "plt.rcParams.update({'font.size': 18})\n",
    "plt.xticks(rotation=90)\n",
    "ax.set_ylim(80,105)\n",
    "\n",
    "\n",
    "sns.barplot(x='genres',y='duration_minutes', data=genres)"
   ]
  },
  {
   "cell_type": "markdown",
   "metadata": {},
   "source": [
    "History movies are on average 20 minutes longer than animation and western movies.\n"
   ]
  },
  {
   "cell_type": "code",
   "execution_count": null,
   "metadata": {},
   "outputs": [],
   "source": []
  }
 ],
 "metadata": {
  "kernelspec": {
   "display_name": "Python 3",
   "language": "python",
   "name": "python3"
  },
  "language_info": {
   "codemirror_mode": {
    "name": "ipython",
    "version": 3
   },
   "file_extension": ".py",
   "mimetype": "text/x-python",
   "name": "python",
   "nbconvert_exporter": "python",
   "pygments_lexer": "ipython3",
   "version": "3.7.6"
  }
 },
 "nbformat": 4,
 "nbformat_minor": 2
}
